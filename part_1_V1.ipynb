{
 "cells": [
  {
   "cell_type": "code",
   "execution_count": 29,
   "metadata": {},
   "outputs": [
    {
     "name": "stdout",
     "output_type": "stream",
     "text": [
      "[43, 45, 46]\n",
      "[50, 51]\n",
      "{64: set(), 65: set(), 66: set(), 67: set(), 68: set(), 30: set(), 31: set(), 32: set(), 33: set(), 34: set(), 35: set(), 36: {37}, 37: set(), 38: set(), 39: set(), 40: set(), 41: set(), 42: set(), 43: set(), 44: set(), 45: set(), 46: set(), 47: set(), 48: set(), 49: set(), 50: set(), 51: set(), 52: set(), 53: set(), 54: set(), 55: set(), 56: set(), 57: set(), 58: set(), 59: set(), 60: set(), 61: set(), 62: set(), 63: set()}\n"
     ]
    }
   ],
   "source": [
    "from code_analysis import CFG \n",
    "from code_analysis import CFGReader\n",
    "from code_analysis import AST\n",
    "from code_analysis import ASTReader\n",
    "import json\n",
    "\n",
    "cfg = CFGReader().read_cfg('/mnt/c/Users/Othman/Desktop/TP-LOG6302/log6302a_lab5/part_1/file_2.php.cfg.json')\n",
    "ast = ASTReader().read_ast('/mnt/c/Users/Othman/Desktop/TP-LOG6302/log6302a_lab5/part_1/file_1.php.ast.json')\n",
    "\n",
    "def referencesExpression (cfg : CFG, node, ref):\n",
    "    \n",
    "    if cfg.get_type(node) == 'BinOP':\n",
    "        referencesExpression(cfg, cfg.get_op_hands(node)[0], ref)\n",
    "        referencesExpression(cfg, cfg.get_op_hands(node)[1], ref)\n",
    "    else : \n",
    "        ref.append(node)\n",
    "    return ref\n",
    "\n",
    "def poss_tainted_defs(cfg : CFG ) :\n",
    "\n",
    "    taint_file = open('/mnt/c/Users/Othman/Desktop/TP-LOG6302/log6302a_lab5/part_1/file_2.php.taint.json')\n",
    "    data = json.load(taint_file)\n",
    "    defs = data['defs']\n",
    "    refs = data['refs']\n",
    "    pairs = data['pairs']\n",
    "    sinks = data['sinks']\n",
    "    filters = data['filters']\n",
    "    safes = data['safes']\n",
    "    sources = data['sources']\n",
    "\n",
    "\n",
    "    nodeSet = cfg.get_node_ids()\n",
    "\n",
    "    IN = {}\n",
    "    OUT = {}\n",
    "    tainted_KILL = {}\n",
    "    tainted_GEN = {}\n",
    "\n",
    "    for node in nodeSet :\n",
    "        \n",
    "        IN[node] = set()\n",
    "        OUT[node] = set()\n",
    "        tainted_GEN[node] = set()\n",
    "        tainted_KILL[node] = set()\n",
    "\n",
    "        if cfg.get_type(node) == 'BinOP' and cfg.get_image(node) == '=' :\n",
    "            left, right = cfg.get_op_hands(node)\n",
    "            if right in sources :\n",
    "                tainted_GEN[node].add(left)\n",
    "            elif right in safes :\n",
    "                tainted_GEN[node] = set()\n",
    "            elif right in filters :\n",
    "                tainted_GEN[node] = set()\n",
    "            else : \n",
    "                refExpr = referencesExpression (cfg , right, [])\n",
    "                for ref in refExpr :\n",
    "                    for defRef in pairs :\n",
    "                        if defRef[1] == ref and defRef[0] in IN[node]:\n",
    "                            tainted_GEN[node].add(left)\n",
    "                            break\n",
    "            \n",
    "    print(tainted_GEN)\n",
    "\n",
    "poss_tainted_defs(cfg)\n",
    "                \n",
    "            \n"
   ]
  }
 ],
 "metadata": {
  "kernelspec": {
   "display_name": "Python 3",
   "language": "python",
   "name": "python3"
  },
  "language_info": {
   "codemirror_mode": {
    "name": "ipython",
    "version": 3
   },
   "file_extension": ".py",
   "mimetype": "text/x-python",
   "name": "python",
   "nbconvert_exporter": "python",
   "pygments_lexer": "ipython3",
   "version": "3.10.6"
  },
  "orig_nbformat": 4
 },
 "nbformat": 4,
 "nbformat_minor": 2
}
