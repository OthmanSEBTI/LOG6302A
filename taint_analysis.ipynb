{
 "cells": [
  {
   "attachments": {},
   "cell_type": "markdown",
   "metadata": {},
   "source": [
    "# LAB5 : Analyse de teinte "
   ]
  },
  {
   "attachments": {},
   "cell_type": "markdown",
   "metadata": {},
   "source": [
    "## Partie 1 :"
   ]
  },
  {
   "attachments": {},
   "cell_type": "markdown",
   "metadata": {},
   "source": [
    "### Implementation de l'algorithme possibly tainted definitions"
   ]
  },
  {
   "cell_type": "code",
   "execution_count": 20,
   "metadata": {},
   "outputs": [],
   "source": [
    "from code_analysis import CFG \n",
    "from code_analysis import CFGReader\n",
    "from code_analysis import AST\n",
    "from code_analysis import ASTReader\n",
    "import json\n",
    "\n",
    "# definition of a recursiv function to retrieve the node ids of all references in an expression\n",
    "def referencesExpression (cfg : CFG, node, ref):\n",
    "    \n",
    "    if cfg.get_type(node) == 'BinOP':\n",
    "        referencesExpression(cfg, cfg.get_op_hands(node)[0], ref)\n",
    "        referencesExpression(cfg, cfg.get_op_hands(node)[1], ref)\n",
    "    else : \n",
    "        ref.append(node)\n",
    "    return ref\n",
    "\n",
    "# definition of the function possibly tainted definitions, take as arguments the cfg \n",
    "# and the path of the taint file\n",
    "def poss_tainted_defs(cfg : CFG , taintFilePath) :\n",
    "\n",
    "    # load the JSON\n",
    "    taint_file = open(taintFilePath)\n",
    "    data = json.load(taint_file)\n",
    "\n",
    "    # extract the file content in variables  \n",
    "    defs = data['defs']\n",
    "    refs = data['refs']\n",
    "    pairs = data['pairs']\n",
    "    sinks = data['sinks']\n",
    "    filters = data['filters']\n",
    "    safes = data['safes']\n",
    "    sources = data['sources']\n",
    "\n",
    "    # retrieve the cfg node ids\n",
    "    nodeSet = cfg.get_node_ids()\n",
    "\n",
    "    # initialize IN, OUT, tainted_KILL and GEN with empty dict\n",
    "    IN = {}\n",
    "    OUT = {}\n",
    "    tainted_KILL = {}\n",
    "    tainted_GEN = {}\n",
    "\n",
    "    # initialize the value of IN, OUT, tainted_KILL and GEN for all nodes \n",
    "    # to an empty set \n",
    "    for node in nodeSet :\n",
    "        \n",
    "        IN[node] = set()\n",
    "        OUT[node] = set()\n",
    "        tainted_GEN[node] = set()\n",
    "        tainted_KILL[node] = set()\n",
    "       \n",
    "    # initialize variables old_OUT and changes\n",
    "    old_OUT = {}\n",
    "    changes = True\n",
    "    \n",
    "    while changes :\n",
    "\n",
    "        changes = False\n",
    "\n",
    "        # for each node in the cfg \n",
    "        for node in nodeSet :\n",
    "            \n",
    "            # if node is a definition then check the right side if it is a source then the definition \n",
    "            # is tainted, if it correspond to a filter or safe then nothing happen, otherwise the right \n",
    "            # side is an expression then check for all references if one is tainted the definition will be \n",
    "            # tainted as well     \n",
    "            if cfg.get_type(node) == 'BinOP' and cfg.get_image(node) == '=' :\n",
    "                \n",
    "                left, right = cfg.get_op_hands(node)\n",
    "                \n",
    "                if right in sources :\n",
    "                    tainted_GEN[node].add(left)\n",
    "                elif right in safes :\n",
    "                    tainted_GEN[node] = set()\n",
    "                elif right in filters :\n",
    "                    tainted_GEN[node] = set()\n",
    "                else : \n",
    "                    refExpr = referencesExpression (cfg , right, [])\n",
    "                    for ref in refExpr :\n",
    "                        for defRef in pairs :\n",
    "                            definition , reference = defRef\n",
    "                            if reference == ref and definition in IN[node]:    \n",
    "                                tainted_GEN[node].add(left)\n",
    "                                break\n",
    "                \n",
    "                # a definition kills all other definitions with the same left side\n",
    "                for definition in defs : \n",
    "                    if definition == left :\n",
    "                        tainted_KILL[node].add(definition) \n",
    "            \n",
    "            # set the predecessor nodes\n",
    "            predNodes = []\n",
    "            if cfg.get_type(node) == 'CallEnd':\n",
    "                predNodes.append(cfg.get_call_begin(node))\n",
    "            else :\n",
    "                predNodes = cfg.get_parents(node)\n",
    "            \n",
    "            # update IN, IN = IN U OUT\n",
    "            for predNode in predNodes :\n",
    "                IN[node] = IN[node].union(OUT[predNode])\n",
    "\n",
    "            old_OUT[node] = OUT [node]\n",
    "\n",
    "            # update OUT, OUT = GEN U ( IN \\ KILL ) \n",
    "            OUT[node] = tainted_GEN[node].union(IN[node].difference(tainted_KILL[node]))\n",
    "\n",
    "            if OUT[node] !=  old_OUT[node]:\n",
    "                changes = True\n",
    "        \n",
    "    return IN\n",
    "\n",
    "# function definition  for printing the pairs (def,ref) tainted\n",
    "def print_poss_tainted_defrefs(cfg : CFG, ast : AST, taintFilePath) :\n",
    "\n",
    "    # load the JSON\n",
    "    taint_file = open(taintFilePath)\n",
    "    data = json.load(taint_file)\n",
    "\n",
    "    # extract the file content in variables  \n",
    "    defs = data['defs']\n",
    "    refs = data['refs']\n",
    "    pairs = data['pairs']\n",
    "    sinks = data['sinks']\n",
    "    filters = data['filters']\n",
    "    safes = data['safes']\n",
    "    sources = data['sources']\n",
    "\n",
    "    IN = poss_tainted_defs(cfg, taintFilePath)\n",
    "\n",
    "    for sink in sinks : \n",
    "        for pair in pairs :\n",
    "            definition, reference = pair\n",
    "            if sink == reference and definition in IN[sink]:\n",
    "                print(f\" La paire  ( definition : '{cfg.get_image(definition)}' ligne {ast.get_position(cfg.get_node_ast_ptr(definition))[0]}, reference : '{cfg.get_image(reference)}' ligne {ast.get_position(cfg.get_node_ast_ptr(reference))[0]} ) est teintee \\n\" )\n"
   ]
  },
  {
   "attachments": {},
   "cell_type": "markdown",
   "metadata": {},
   "source": [
    "### Test partie 1"
   ]
  },
  {
   "cell_type": "code",
   "execution_count": 21,
   "metadata": {},
   "outputs": [
    {
     "name": "stdout",
     "output_type": "stream",
     "text": [
      " La paire  ( definition : 'tainted' ligne 3, reference : 'tainted' ligne 6 ) est teintee \n",
      "\n"
     ]
    }
   ],
   "source": [
    "# File 1\n",
    "cfg_file1 = CFGReader().read_cfg('/mnt/c/Users/Othman/Desktop/TP-LOG6302/log6302a_lab5/part_1/file_1.php.cfg.json')\n",
    "ast_file1 = ASTReader().read_ast('/mnt/c/Users/Othman/Desktop/TP-LOG6302/log6302a_lab5/part_1/file_1.php.ast.json')\n",
    "taint_file1 =  '/mnt/c/Users/Othman/Desktop/TP-LOG6302/log6302a_lab5/part_1/file_1.php.taint.json'\n",
    "\n",
    "print_poss_tainted_defrefs(cfg_file1, ast_file1, taint_file1)"
   ]
  },
  {
   "cell_type": "code",
   "execution_count": 22,
   "metadata": {},
   "outputs": [
    {
     "name": "stdout",
     "output_type": "stream",
     "text": [
      " La paire  ( definition : 'tainted2' ligne 5, reference : 'tainted2' ligne 9 ) est teintee \n",
      "\n"
     ]
    }
   ],
   "source": [
    "# File 2\n",
    "cfg_file2 = CFGReader().read_cfg('/mnt/c/Users/Othman/Desktop/TP-LOG6302/log6302a_lab5/part_1/file_2.php.cfg.json')\n",
    "ast_file2 = ASTReader().read_ast('/mnt/c/Users/Othman/Desktop/TP-LOG6302/log6302a_lab5/part_1/file_2.php.ast.json')\n",
    "taint_file2 =  '/mnt/c/Users/Othman/Desktop/TP-LOG6302/log6302a_lab5/part_1/file_2.php.taint.json'\n",
    "\n",
    "print_poss_tainted_defrefs(cfg_file2, ast_file2, taint_file2)"
   ]
  },
  {
   "cell_type": "code",
   "execution_count": 23,
   "metadata": {},
   "outputs": [],
   "source": [
    "# File 3\n",
    "cfg_file3 = CFGReader().read_cfg('/mnt/c/Users/Othman/Desktop/TP-LOG6302/log6302a_lab5/part_1/file_3.php.cfg.json')\n",
    "ast_file3 = ASTReader().read_ast('/mnt/c/Users/Othman/Desktop/TP-LOG6302/log6302a_lab5/part_1/file_3.php.ast.json')\n",
    "taint_file3 =  '/mnt/c/Users/Othman/Desktop/TP-LOG6302/log6302a_lab5/part_1/file_3.php.taint.json'\n",
    "\n",
    "print_poss_tainted_defrefs(cfg_file3, ast_file3, taint_file3)"
   ]
  },
  {
   "cell_type": "code",
   "execution_count": 24,
   "metadata": {},
   "outputs": [
    {
     "name": "stdout",
     "output_type": "stream",
     "text": [
      " La paire  ( definition : 'tainted' ligne 3, reference : 'tainted' ligne 7 ) est teintee \n",
      "\n"
     ]
    }
   ],
   "source": [
    "# File 4\n",
    "cfg_file4 = CFGReader().read_cfg('/mnt/c/Users/Othman/Desktop/TP-LOG6302/log6302a_lab5/part_1/file_4.php.cfg.json')\n",
    "ast_file4 = ASTReader().read_ast('/mnt/c/Users/Othman/Desktop/TP-LOG6302/log6302a_lab5/part_1/file_4.php.ast.json')\n",
    "taint_file4 =  '/mnt/c/Users/Othman/Desktop/TP-LOG6302/log6302a_lab5/part_1/file_4.php.taint.json'\n",
    "\n",
    "print_poss_tainted_defrefs(cfg_file4, ast_file4, taint_file4)"
   ]
  },
  {
   "cell_type": "code",
   "execution_count": 25,
   "metadata": {},
   "outputs": [
    {
     "name": "stdout",
     "output_type": "stream",
     "text": [
      " La paire  ( definition : 'tainted' ligne 3, reference : 'tainted' ligne 7 ) est teintee \n",
      "\n"
     ]
    }
   ],
   "source": [
    "# File 5\n",
    "cfg_file5 = CFGReader().read_cfg('/mnt/c/Users/Othman/Desktop/TP-LOG6302/log6302a_lab5/part_1/file_5.php.cfg.json')\n",
    "ast_file5 = ASTReader().read_ast('/mnt/c/Users/Othman/Desktop/TP-LOG6302/log6302a_lab5/part_1/file_5.php.ast.json')\n",
    "taint_file5 =  '/mnt/c/Users/Othman/Desktop/TP-LOG6302/log6302a_lab5/part_1/file_5.php.taint.json'\n",
    "\n",
    "print_poss_tainted_defrefs(cfg_file4, ast_file4, taint_file4)"
   ]
  },
  {
   "attachments": {},
   "cell_type": "markdown",
   "metadata": {},
   "source": [
    "## Partie 2 :"
   ]
  },
  {
   "cell_type": "code",
   "execution_count": 26,
   "metadata": {},
   "outputs": [],
   "source": [
    "# Prepare paths of cfg ast and taint of all files\n",
    "\n",
    "files_paths = [ '/mnt/c/Users/Othman/Desktop/TP-LOG6302/log6302a_lab5/part_2/app/about.php' ,\n",
    "              '/mnt/c/Users/Othman/Desktop/TP-LOG6302/log6302a_lab5/part_2/app/contact.php',\n",
    "              '/mnt/c/Users/Othman/Desktop/TP-LOG6302/log6302a_lab5/part_2/app/departments.php',\n",
    "              '/mnt/c/Users/Othman/Desktop/TP-LOG6302/log6302a_lab5/part_2/app/index.php', \n",
    "              '/mnt/c/Users/Othman/Desktop/TP-LOG6302/log6302a_lab5/part_2/app/includes/define.php', \n",
    "              '/mnt/c/Users/Othman/Desktop/TP-LOG6302/log6302a_lab5/part_2/app/includes/footer.php', \n",
    "              '/mnt/c/Users/Othman/Desktop/TP-LOG6302/log6302a_lab5/part_2/app/includes/header.php']\n",
    "\n",
    "cfg_paths = [ '/mnt/c/Users/Othman/Desktop/TP-LOG6302/log6302a_lab5/part_2/app.cfg/about.php.cfg.json' ,\n",
    "              '/mnt/c/Users/Othman/Desktop/TP-LOG6302/log6302a_lab5/part_2/app.cfg/contact.php.cfg.json',\n",
    "              '/mnt/c/Users/Othman/Desktop/TP-LOG6302/log6302a_lab5/part_2/app.cfg/departments.php.cfg.json',\n",
    "              '/mnt/c/Users/Othman/Desktop/TP-LOG6302/log6302a_lab5/part_2/app.cfg/index.php.cfg.json', \n",
    "              '/mnt/c/Users/Othman/Desktop/TP-LOG6302/log6302a_lab5/part_2/app.cfg/includes/define.php.cfg.json', \n",
    "              '/mnt/c/Users/Othman/Desktop/TP-LOG6302/log6302a_lab5/part_2/app.cfg/includes/footer.php.cfg.json', \n",
    "              '/mnt/c/Users/Othman/Desktop/TP-LOG6302/log6302a_lab5/part_2/app.cfg/includes/header.php.cfg.json']\n",
    "\n",
    "ast_paths = [ '/mnt/c/Users/Othman/Desktop/TP-LOG6302/log6302a_lab5/part_2/app.cfg/about.php.ast.json' ,\n",
    "              '/mnt/c/Users/Othman/Desktop/TP-LOG6302/log6302a_lab5/part_2/app.cfg/contact.php.ast.json',\n",
    "              '/mnt/c/Users/Othman/Desktop/TP-LOG6302/log6302a_lab5/part_2/app.cfg/departments.php.ast.json',\n",
    "              '/mnt/c/Users/Othman/Desktop/TP-LOG6302/log6302a_lab5/part_2/app.cfg/index.php.ast.json', \n",
    "              '/mnt/c/Users/Othman/Desktop/TP-LOG6302/log6302a_lab5/part_2/app.cfg/includes/define.php.ast.json', \n",
    "              '/mnt/c/Users/Othman/Desktop/TP-LOG6302/log6302a_lab5/part_2/app.cfg/includes/footer.php.ast.json', \n",
    "              '/mnt/c/Users/Othman/Desktop/TP-LOG6302/log6302a_lab5/part_2/app.cfg/includes/header.php.ast.json']\n",
    "\n",
    "taint_paths =  [ '/mnt/c/Users/Othman/Desktop/TP-LOG6302/log6302a_lab5/part_2/app.cfg/about.php.taint.json' ,\n",
    "              '/mnt/c/Users/Othman/Desktop/TP-LOG6302/log6302a_lab5/part_2/app.cfg/contact.php.taint.json',\n",
    "              '/mnt/c/Users/Othman/Desktop/TP-LOG6302/log6302a_lab5/part_2/app.cfg/departments.php.taint.json',\n",
    "              '/mnt/c/Users/Othman/Desktop/TP-LOG6302/log6302a_lab5/part_2/app.cfg/index.php.taint.json',\n",
    "              '/mnt/c/Users/Othman/Desktop/TP-LOG6302/log6302a_lab5/part_2/app.cfg/includes/define.php.taint.json', \n",
    "              '/mnt/c/Users/Othman/Desktop/TP-LOG6302/log6302a_lab5/part_2/app.cfg/includes/footer.php.taint.json', \n",
    "              '/mnt/c/Users/Othman/Desktop/TP-LOG6302/log6302a_lab5/part_2/app.cfg/includes/header.php.taint.json' ]"
   ]
  },
  {
   "cell_type": "code",
   "execution_count": 27,
   "metadata": {},
   "outputs": [
    {
     "name": "stdout",
     "output_type": "stream",
     "text": [
      "Les pairs def-refs possiblement teintee du fichier '/mnt/c/Users/Othman/Desktop/TP-LOG6302/log6302a_lab5/part_2/app/about.php' sont : \n",
      "\n",
      "Les pairs def-refs possiblement teintee du fichier '/mnt/c/Users/Othman/Desktop/TP-LOG6302/log6302a_lab5/part_2/app/contact.php' sont : \n",
      "\n",
      "Les pairs def-refs possiblement teintee du fichier '/mnt/c/Users/Othman/Desktop/TP-LOG6302/log6302a_lab5/part_2/app/departments.php' sont : \n",
      "\n",
      "Les pairs def-refs possiblement teintee du fichier '/mnt/c/Users/Othman/Desktop/TP-LOG6302/log6302a_lab5/part_2/app/index.php' sont : \n",
      "\n",
      "Les pairs def-refs possiblement teintee du fichier '/mnt/c/Users/Othman/Desktop/TP-LOG6302/log6302a_lab5/part_2/app/includes/define.php' sont : \n",
      "\n",
      "Les pairs def-refs possiblement teintee du fichier '/mnt/c/Users/Othman/Desktop/TP-LOG6302/log6302a_lab5/part_2/app/includes/footer.php' sont : \n",
      "\n",
      " La paire  ( definition : 'sql' ligne 33, reference : 'sql' ligne 36 ) est teintee \n",
      "\n",
      "Les pairs def-refs possiblement teintee du fichier '/mnt/c/Users/Othman/Desktop/TP-LOG6302/log6302a_lab5/part_2/app/includes/header.php' sont : \n",
      "\n"
     ]
    }
   ],
   "source": [
    "for i in range(7) :\n",
    "    print (f\"Les pairs def-refs possiblement teintee du fichier '{files_paths[i]}' sont : \\n\" )\n",
    "    print_poss_tainted_defrefs(CFGReader().read_cfg(cfg_paths[i]),ASTReader().read_ast(ast_paths[i]),taint_paths[i])"
   ]
  }
 ],
 "metadata": {
  "kernelspec": {
   "display_name": "Python 3",
   "language": "python",
   "name": "python3"
  },
  "language_info": {
   "codemirror_mode": {
    "name": "ipython",
    "version": 3
   },
   "file_extension": ".py",
   "mimetype": "text/x-python",
   "name": "python",
   "nbconvert_exporter": "python",
   "pygments_lexer": "ipython3",
   "version": "3.10.6"
  },
  "orig_nbformat": 4
 },
 "nbformat": 4,
 "nbformat_minor": 2
}
