{
 "cells": [
  {
   "cell_type": "code",
   "execution_count": 1,
   "metadata": {},
   "outputs": [
    {
     "ename": "NameError",
     "evalue": "name 'fr' is not defined",
     "output_type": "error",
     "traceback": [
      "\u001b[0;31m---------------------------------------------------------------------------\u001b[0m",
      "\u001b[0;31mNameError\u001b[0m                                 Traceback (most recent call last)",
      "Cell \u001b[0;32mIn[1], line 3\u001b[0m\n\u001b[1;32m      1\u001b[0m \u001b[39mfrom\u001b[39;00m \u001b[39mcode_analysis\u001b[39;00m \u001b[39mimport\u001b[39;00m CFG \n\u001b[1;32m      2\u001b[0m \u001b[39mfrom\u001b[39;00m \u001b[39mcode_analysis\u001b[39;00m \u001b[39mimport\u001b[39;00m CFGReader\n\u001b[0;32m----> 3\u001b[0m fr\n\u001b[1;32m      5\u001b[0m \u001b[39mdef\u001b[39;00m \u001b[39mposs_tainted_defs\u001b[39m(cfg : CFG) :\n\u001b[1;32m      7\u001b[0m     nodeSet \u001b[39m=\u001b[39m cfg\u001b[39m.\u001b[39mget_node_ids()\n",
      "\u001b[0;31mNameError\u001b[0m: name 'fr' is not defined"
     ]
    }
   ],
   "source": [
    "from code_analysis import CFG \n",
    "from code_analysis import CFGReader\n",
    "from code_analysis import AST\n",
    "from code_analysis import ASTReader\n",
    "import json\n",
    "\n",
    "\n",
    "def poss_tainted_defs(cfg : CFG ) :\n",
    "\n",
    "    taint_file = open('/mnt/c/Users/Othman/Desktop/TP-LOG6302/log6302a_lab5/part_1/file_1.php.taint.json')\n",
    "    data = json.load(taint_file)\n",
    "    defs = data['defs']\n",
    "    refs = data['refs']\n",
    "    pairs = data['pairs']\n",
    "    sinks = data['sinks']\n",
    "    filters = data['filters']\n",
    "    safes = data['safes']\n",
    "    sources = data['sources']\n",
    "\n",
    "\n",
    "    nodeSet = cfg.get_node_ids()\n",
    "\n",
    "    IN = {}\n",
    "    OUT = {}\n",
    "    tainted_KILL = {}\n",
    "    tainted_GEN = {}\n",
    "\n",
    "    for node in nodeSet :\n",
    "        \n",
    "        IN[node] = set()\n",
    "        OUT[node] = set()\n",
    "        tainted_GEN[node] = set()\n",
    "        tainted_KILL[node] = set()\n",
    "\n",
    "        if node in sources :\n",
    "            tainted_GEN[node].add(node)\n",
    "        else :\n",
    "            \n"
   ]
  },
  {
   "cell_type": "code",
   "execution_count": 6,
   "metadata": {},
   "outputs": [],
   "source": [
    "\n"
   ]
  }
 ],
 "metadata": {
  "kernelspec": {
   "display_name": "Python 3",
   "language": "python",
   "name": "python3"
  },
  "language_info": {
   "codemirror_mode": {
    "name": "ipython",
    "version": 3
   },
   "file_extension": ".py",
   "mimetype": "text/x-python",
   "name": "python",
   "nbconvert_exporter": "python",
   "pygments_lexer": "ipython3",
   "version": "3.10.6"
  },
  "orig_nbformat": 4
 },
 "nbformat": 4,
 "nbformat_minor": 2
}
